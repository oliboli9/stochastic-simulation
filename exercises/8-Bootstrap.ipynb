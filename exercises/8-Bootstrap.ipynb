{
 "cells": [
  {
   "cell_type": "code",
   "execution_count": 16,
   "id": "3e2984de",
   "metadata": {},
   "outputs": [],
   "source": [
    "import numpy as np"
   ]
  },
  {
   "cell_type": "markdown",
   "id": "3c549679",
   "metadata": {},
   "source": [
    "## 1 Bootstrap estimation of $p$"
   ]
  },
  {
   "cell_type": "code",
   "execution_count": null,
   "id": "0c24944e",
   "metadata": {},
   "outputs": [
    {
     "name": "stdout",
     "output_type": "stream",
     "text": [
      "0.79\n"
     ]
    }
   ],
   "source": [
    "x = np.array([56, 101, 78, 67, 93, 87, 64, 72, 80, 69])\n",
    "a = -5\n",
    "b = 5\n",
    "\n",
    "r = 100\n",
    "n = 10\n",
    "\n",
    "X = [np.random.choice(x, n) for _ in range(r)]\n",
    "X = np.stack(X)\n",
    "emp_mean = X.mean(axis=1)\n",
    "mean = emp_mean.mean()\n",
    "p = emp_mean - mean\n",
    "p = np.count_nonzero(abs(p) < b) / r\n",
    "print(p)"
   ]
  },
  {
   "cell_type": "markdown",
   "id": "1b9afa8f",
   "metadata": {},
   "source": [
    "## 2 Bootstrap estimation of $Var(S^2)$"
   ]
  },
  {
   "cell_type": "code",
   "execution_count": 24,
   "id": "b996b325",
   "metadata": {},
   "outputs": [
    {
     "data": {
      "text/plain": [
       "np.float64(54.787175119012346)"
      ]
     },
     "execution_count": 24,
     "metadata": {},
     "output_type": "execute_result"
    }
   ],
   "source": [
    "n = 15\n",
    "r = 100\n",
    "x = [5, 4, 9, 6, 21, 17, 11, 20, 7, 10, 21, 15, 13, 16, 8]\n",
    "X = [np.random.choice(x, n) for _ in range(r)]\n",
    "X = np.stack(X)\n",
    "s2 = X.var(axis=1)\n",
    "\n",
    "s2.var()"
   ]
  },
  {
   "cell_type": "markdown",
   "id": "d77b369b",
   "metadata": {},
   "source": [
    "## 3 Pareto bootstrap simulation"
   ]
  },
  {
   "cell_type": "code",
   "execution_count": 25,
   "id": "549775ce",
   "metadata": {},
   "outputs": [
    {
     "name": "stdout",
     "output_type": "stream",
     "text": [
      "Sample Mean: 6.8233, Sample Median: 2.0991\n",
      "Bootstrap Mean: 6.7045, Variance of Mean: 4.1893\n",
      "Bootstrap Median: 2.0991, Variance of Median: 0.0206\n"
     ]
    }
   ],
   "source": [
    "N = 200\n",
    "beta = 1\n",
    "k = 1.05\n",
    "\n",
    "data = (np.random.pareto(k, N) + 1) * beta\n",
    "\n",
    "sample_mean = np.mean(data)\n",
    "sample_median = np.median(data)\n",
    "\n",
    "print(f\"Sample Mean: {sample_mean:.4f}, Sample Median: {sample_median:.4f}\")\n",
    "\n",
    "\n",
    "def bootstrap_median_variance(data, r=100):\n",
    "    n = len(data)\n",
    "    medians = []\n",
    "\n",
    "    for _ in range(r):\n",
    "        sample = np.random.choice(data, size=n, replace=True)\n",
    "        medians.append(np.median(sample))\n",
    "\n",
    "    median_estimate = np.median(data)\n",
    "    variance_estimate = np.var(medians, ddof=1)\n",
    "    \n",
    "    return median_estimate, variance_estimate\n",
    "\n",
    "\n",
    "def bootstrap_mean_variance(data, r=100):\n",
    "    n = len(data)\n",
    "    means = []\n",
    "\n",
    "    for _ in range(r):\n",
    "        sample = np.random.choice(data, size=n, replace=True)\n",
    "        means.append(np.mean(sample))\n",
    "\n",
    "    return np.mean(means), np.var(means, ddof=1)\n",
    "\n",
    "mean, var_mean = bootstrap_mean_variance(data)\n",
    "median, var_median = bootstrap_median_variance(data)\n",
    "\n",
    "print(f\"Bootstrap Mean: {mean:.4f}, Variance of Mean: {var_mean:.4f}\")\n",
    "print(f\"Bootstrap Median: {median:.4f}, Variance of Median: {var_median:.4f}\")"
   ]
  },
  {
   "cell_type": "code",
   "execution_count": 29,
   "id": "a8d1466d",
   "metadata": {},
   "outputs": [
    {
     "data": {
      "text/plain": [
       "203.3640776699029"
      ]
     },
     "execution_count": 29,
     "metadata": {},
     "output_type": "execute_result"
    }
   ],
   "source": [
    "4.1893/0.0206"
   ]
  },
  {
   "cell_type": "code",
   "execution_count": null,
   "id": "b1854e8b",
   "metadata": {},
   "outputs": [],
   "source": []
  }
 ],
 "metadata": {
  "kernelspec": {
   "display_name": "Python 3",
   "language": "python",
   "name": "python3"
  },
  "language_info": {
   "codemirror_mode": {
    "name": "ipython",
    "version": 3
   },
   "file_extension": ".py",
   "mimetype": "text/x-python",
   "name": "python",
   "nbconvert_exporter": "python",
   "pygments_lexer": "ipython3",
   "version": "3.12.5"
  }
 },
 "nbformat": 4,
 "nbformat_minor": 5
}
