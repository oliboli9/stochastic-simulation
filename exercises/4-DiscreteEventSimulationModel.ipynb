{
 "cells": [
  {
   "cell_type": "code",
   "execution_count": null,
   "metadata": {},
   "outputs": [],
   "source": [
    "import heapq\n",
    "import numpy as np\n",
    "from scipy.stats import poisson, expon, pareto, erlang\n",
    "from collections import namedtuple\n",
    "from scipy.stats import norm\n",
    "import math"
   ]
  },
  {
   "cell_type": "code",
   "execution_count": 5,
   "metadata": {},
   "outputs": [],
   "source": [
    "Event = namedtuple('Event', ['event_type', 'time'])\n",
    "\n",
    "class EventList:\n",
    "    def __init__(self):\n",
    "        self._queue = []\n",
    "\n",
    "    def enqueue(self, event: Event):\n",
    "        heapq.heappush(self._queue, (event.time, event))\n",
    "\n",
    "    def dequeue(self):\n",
    "        return heapq.heappop(self._queue)[1]\n",
    "\n",
    "    def __len__(self):\n",
    "        return len(self._queue)\n",
    "\n",
    "\n",
    "class HyperExponential:\n",
    "    def __init__(self, ps, lambdas):\n",
    "        self.ps = ps\n",
    "        self.lambdas = lambdas\n",
    "\n",
    "    def rvs(self):\n",
    "        i = np.random.choice(len(self.ps), p=self.ps)\n",
    "        return np.random.exponential(1.0 / self.lambdas[i])\n",
    "    \n",
    "class Weibull:\n",
    "    def __init__(self, k):\n",
    "        self.k = k\n",
    "\n",
    "    def rvs(self):\n",
    "        return np.random.weibull(self.k,1)[0]\n",
    "    \n",
    "class ConstantService:\n",
    "    def __init__(self, value):\n",
    "        self.value = value\n",
    "\n",
    "    def rvs(self):\n",
    "        return self.value\n",
    "        \n",
    "\n",
    "class Simulation:\n",
    "    def __init__(self, arrive_dist, service_dist, n_units=10, limit=10000):\n",
    "        self.arrive_dist = arrive_dist\n",
    "        self.service_dist = service_dist\n",
    "        self.event_list = EventList()\n",
    "        self.available_units = n_units\n",
    "        self.n_blocked = 0\n",
    "        self.n_served = 0\n",
    "        self.limit = limit\n",
    "\n",
    "def create_event(event_type: str, world: Simulation, time_offset: float):\n",
    "    if event_type == 'arrive':\n",
    "        if hasattr(world.arrive_dist, 'rvs'):\n",
    "            target_time = world.arrive_dist.rvs()\n",
    "        else:\n",
    "            target_time = world.arrive_dist()\n",
    "    elif event_type == 'service':\n",
    "        if hasattr(world.service_dist, 'rvs'):\n",
    "            target_time = world.service_dist.rvs()\n",
    "        else:\n",
    "            target_time = world.service_dist()\n",
    "    else:\n",
    "        raise ValueError(\"Invalid event type\")\n",
    "    return Event(event_type, time_offset + target_time)\n",
    "\n",
    "def handle_arrive(world: Simulation, event: Event):\n",
    "    if world.n_blocked + world.n_served >= world.limit:\n",
    "        return\n",
    "\n",
    "    new_event = create_event('arrive', world, event.time)\n",
    "    world.event_list.enqueue(new_event)\n",
    "\n",
    "    if world.available_units > 0:\n",
    "        world.available_units -= 1\n",
    "        service_event = create_event('service', world, event.time)\n",
    "        world.event_list.enqueue(service_event)\n",
    "    else:\n",
    "        world.n_blocked += 1\n",
    "\n",
    "def handle_service(world: Simulation, event: Event):\n",
    "    world.available_units += 1\n",
    "    world.n_served += 1\n",
    "\n",
    "def simulate(world: Simulation):\n",
    "    initial_event = Event('arrive', 0.0)\n",
    "    world.event_list.enqueue(initial_event)\n",
    "\n",
    "    while len(world.event_list) > 0:\n",
    "        event = world.event_list.dequeue()\n",
    "        if event.event_type == 'arrive':\n",
    "            handle_arrive(world, event)\n",
    "        elif event.event_type == 'service':\n",
    "            handle_service(world, event)\n",
    "        else:\n",
    "            raise ValueError(\"Unknown event type\")\n",
    "    return world\n",
    "\n",
    "def confidence_interval(data, alpha=0.05):\n",
    "    n = len(data)\n",
    "    mean = np.mean(data)\n",
    "    std = np.std(data, ddof=1)\n",
    "    z = norm.ppf(1 - alpha / 2)\n",
    "    margin = z * std / np.sqrt(n)\n",
    "    return mean - margin, mean, mean + margin\n",
    "\n",
    "def runsim(arrive_dist, service_dist, limit=10000, runs=10, units=10):\n",
    "    results = []\n",
    "    for _ in range(runs):\n",
    "        world = Simulation(arrive_dist, service_dist, units, limit)\n",
    "        result = simulate(world)\n",
    "        results.append(result)\n",
    "\n",
    "    blocked_fractions = [w.n_blocked / (w.n_blocked + w.n_served) for w in results]\n",
    "    ci = confidence_interval(blocked_fractions)\n",
    "\n",
    "    print(f\"Blocked fraction: {ci[1]:.4f}\")\n",
    "    print(f\"95% CI: [{ci[0]:.4f}, {ci[2]:.4f}]\")\n",
    "    return ci\n"
   ]
  },
  {
   "cell_type": "markdown",
   "metadata": {},
   "source": [
    "## 1 Poisson process blocking system"
   ]
  },
  {
   "cell_type": "code",
   "execution_count": 9,
   "metadata": {},
   "outputs": [
    {
     "name": "stdout",
     "output_type": "stream",
     "text": [
      "Blocked fraction: 0.1236\n",
      "95% CI: [0.1207, 0.1265]\n"
     ]
    },
    {
     "data": {
      "text/plain": [
       "(np.float64(0.12073436513455688),\n",
       " np.float64(0.12360472163786122),\n",
       " np.float64(0.12647507814116557))"
      ]
     },
     "execution_count": 9,
     "metadata": {},
     "output_type": "execute_result"
    }
   ],
   "source": [
    "runsim(lambda: np.random.exponential(1), expon(scale=8))\n"
   ]
  },
  {
   "cell_type": "markdown",
   "metadata": {},
   "source": [
    "### Exact solution"
   ]
  },
  {
   "cell_type": "code",
   "execution_count": 10,
   "metadata": {},
   "outputs": [],
   "source": [
    "m = 10 #service units\n",
    "mean_arrival = 1\n",
    "mean_service = 8\n",
    "total_customers = 10_000\n",
    "A = mean_arrival * mean_service"
   ]
  },
  {
   "cell_type": "code",
   "execution_count": 12,
   "metadata": {},
   "outputs": [
    {
     "data": {
      "text/plain": [
       "0.12166106425295149"
      ]
     },
     "execution_count": 12,
     "metadata": {},
     "output_type": "execute_result"
    }
   ],
   "source": [
    "s = 0\n",
    "for i in range(m+1):\n",
    "    s += (A**i) / math.factorial(i)\n",
    "(A**m/math.factorial(m))/s"
   ]
  },
  {
   "cell_type": "markdown",
   "metadata": {},
   "source": [
    "## 2 Renewal process "
   ]
  },
  {
   "cell_type": "markdown",
   "metadata": {},
   "source": [
    "### Erlang arrival times"
   ]
  },
  {
   "cell_type": "code",
   "execution_count": 7,
   "metadata": {},
   "outputs": [
    {
     "name": "stdout",
     "output_type": "stream",
     "text": [
      "k = 0.1\n",
      "Blocked fraction: 0.8764\n",
      "95% CI: [0.8748, 0.8780]\n",
      "k = 0.5\n",
      "Blocked fraction: 0.4437\n",
      "95% CI: [0.4403, 0.4472]\n",
      "k = 1\n",
      "Blocked fraction: 0.1210\n",
      "95% CI: [0.1164, 0.1256]\n",
      "k = 2\n",
      "Blocked fraction: 0.0045\n",
      "95% CI: [0.0039, 0.0050]\n"
     ]
    }
   ],
   "source": [
    "for k in [0.1,0.5,1,2]:\n",
    "    print(f\"k = {k}\")\n",
    "    runsim(erlang(1, scale=k), expon(scale=8))"
   ]
  },
  {
   "cell_type": "markdown",
   "metadata": {},
   "source": [
    "### Hyper exponential arrival times"
   ]
  },
  {
   "cell_type": "code",
   "execution_count": 17,
   "metadata": {},
   "outputs": [
    {
     "name": "stdout",
     "output_type": "stream",
     "text": [
      "Blocked fraction: 0.1369\n",
      "95% CI: [0.1328, 0.1409]\n"
     ]
    },
    {
     "data": {
      "text/plain": [
       "(np.float64(0.1327999117384095),\n",
       " np.float64(0.13687174530951388),\n",
       " np.float64(0.14094357888061826))"
      ]
     },
     "execution_count": 17,
     "metadata": {},
     "output_type": "execute_result"
    }
   ],
   "source": [
    "runsim(HyperExponential([0.8, 0.2], [0.8333, 5.0]), expon(scale=8))"
   ]
  },
  {
   "cell_type": "markdown",
   "metadata": {},
   "source": [
    "## 3 Poisson process"
   ]
  },
  {
   "cell_type": "markdown",
   "metadata": {},
   "source": [
    "### Constant service time"
   ]
  },
  {
   "cell_type": "code",
   "execution_count": 8,
   "metadata": {},
   "outputs": [
    {
     "name": "stdout",
     "output_type": "stream",
     "text": [
      "Blocked fraction: 0.1243\n",
      "95% CI: [0.1223, 0.1262]\n"
     ]
    },
    {
     "data": {
      "text/plain": [
       "(np.float64(0.12232589867281334),\n",
       " np.float64(0.12426299586098111),\n",
       " np.float64(0.12620009304914886))"
      ]
     },
     "execution_count": 8,
     "metadata": {},
     "output_type": "execute_result"
    }
   ],
   "source": [
    "runsim(lambda: np.random.exponential(1), ConstantService(8))"
   ]
  },
  {
   "cell_type": "markdown",
   "metadata": {},
   "source": [
    "### Pareto service times"
   ]
  },
  {
   "cell_type": "code",
   "execution_count": 20,
   "metadata": {},
   "outputs": [
    {
     "name": "stdout",
     "output_type": "stream",
     "text": [
      "k = 1.05\n",
      "Blocked fraction: 0.0019\n",
      "95% CI: [0.0002, 0.0036]\n",
      "k = 2.05\n",
      "Blocked fraction: 0.4507\n",
      "95% CI: [0.4459, 0.4556]\n"
     ]
    }
   ],
   "source": [
    "for k in [1.05,2.05]:\n",
    "    print(f\"k = {k}\")\n",
    "    runsim(lambda: np.random.exponential(1), pareto(b=k, scale=8*(k-1)))\n"
   ]
  },
  {
   "cell_type": "markdown",
   "metadata": {},
   "source": [
    "### Weibull service times"
   ]
  },
  {
   "cell_type": "code",
   "execution_count": 43,
   "metadata": {},
   "outputs": [
    {
     "name": "stdout",
     "output_type": "stream",
     "text": [
      "k = 0.1\n",
      "Blocked fraction: 0.9897\n",
      "95% CI: [0.9877, 0.9917]\n",
      "k = 0.2\n",
      "Blocked fraction: 0.8650\n",
      "95% CI: [0.8496, 0.8805]\n",
      "k = 0.3\n",
      "Blocked fraction: 0.1692\n",
      "95% CI: [0.1556, 0.1828]\n"
     ]
    }
   ],
   "source": [
    "for k in [0.1, 0.2, 0.3]:\n",
    "    print(f\"k = {k}\")\n",
    "    runsim(lambda: np.random.exponential(1), Weibull(k))"
   ]
  },
  {
   "cell_type": "code",
   "execution_count": null,
   "metadata": {},
   "outputs": [],
   "source": []
  }
 ],
 "metadata": {
  "kernelspec": {
   "display_name": "modelling-VMKKgz5r",
   "language": "python",
   "name": "python3"
  },
  "language_info": {
   "codemirror_mode": {
    "name": "ipython",
    "version": 3
   },
   "file_extension": ".py",
   "mimetype": "text/x-python",
   "name": "python",
   "nbconvert_exporter": "python",
   "pygments_lexer": "ipython3",
   "version": "3.9.6"
  }
 },
 "nbformat": 4,
 "nbformat_minor": 2
}
